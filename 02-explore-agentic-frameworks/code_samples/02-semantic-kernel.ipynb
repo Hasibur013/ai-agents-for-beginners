{
 "cells": [
  {
   "cell_type": "code",
   "execution_count": 1,
   "metadata": {},
   "outputs": [],
   "source": [
    "import asyncio\n",
    "import os\n",
    "import asyncio\n",
    "\n",
    "from typing import Annotated\n",
    "from openai import AsyncOpenAI\n",
    "\n",
    "\n",
    "from semantic_kernel.kernel import Kernel\n",
    "from semantic_kernel.connectors.ai.open_ai import OpenAIChatCompletion\n",
    "from semantic_kernel.agents import ChatCompletionAgent\n",
    "from semantic_kernel.contents import ChatHistory\n",
    "\n",
    "\n",
    "from semantic_kernel.agents.open_ai import OpenAIAssistantAgent\n",
    "from semantic_kernel.contents import AuthorRole, ChatMessageContent\n",
    "from semantic_kernel.functions import kernel_function\n"
   ]
  },
  {
   "cell_type": "code",
   "execution_count": 2,
   "metadata": {},
   "outputs": [],
   "source": [
    "client = AsyncOpenAI(\n",
    "    api_key=os.environ[\"GITHUB_TOKEN\"], base_url=\"https://models.inference.ai.azure.com/\")\n",
    "\n",
    "kernel = Kernel()\n",
    "chat_completion_service = OpenAIChatCompletion(\n",
    "    ai_model_id=\"gpt-4o-mini\",\n",
    "    async_client=client,\n",
    "    service_id=\"agent\",\n",
    ")\n",
    "kernel.add_service(chat_completion_service)"
   ]
  },
  {
   "cell_type": "code",
   "execution_count": 3,
   "metadata": {},
   "outputs": [],
   "source": [
    "AGENT_NAME = \"TravelAgent\"\n",
    "AGENT_INSTRUCTIONS = \"You are a helpful AI Agent that can help plan vacations for customers\"\n",
    "agent = ChatCompletionAgent(service_id=\"agent\", kernel=kernel, name=AGENT_NAME)"
   ]
  },
  {
   "cell_type": "code",
   "execution_count": 5,
   "metadata": {},
   "outputs": [
    {
     "name": "stdout",
     "output_type": "stream",
     "text": [
      "# User: 'Tell me about Bangladesh.'\n",
      "# Agent - TravelAgent: 'Bangladesh is a vibrant South Asian country bordered by India to the west, north, and east, Myanmar (Burma) to the southeast, and the Bay of Bengal to the south. It is characterized by its rich cultural heritage, lush landscapes, and a predominantly agrarian lifestyle.\n",
      "\n",
      "### Key Aspects of Bangladesh:\n",
      "\n",
      "1. **Geography**: Bangladesh is known for its fertile plains and numerous rivers, most notably the Ganges, Brahmaputra, and Meghna river systems. The country is flat and low-lying, making it vulnerable to flooding. The Sundarbans, a UNESCO World Heritage Site, is the largest mangrove forest in the world and is home to the famous Bengal tiger.\n",
      "\n",
      "2. **Climate**: Bangladesh has a tropical monsoon climate, with a hot and humid summer, a rainy season from June to October, and cool, dry winters. The monsoon season can bring heavy rainfall and flooding, but it also contributes to the region's agricultural productivity.\n",
      "\n",
      "3. **Culture and Heritage**: Bangladesh has a rich cultural tapestry influenced by various ethnic groups and histories. The country has a unique language, Bengali (Bangla), which is the primary language spoken by the population. Bangladesh is famous for its traditional music, dance, art, and especially its textiles, particularly handwoven muslin and jamdani sarees.\n",
      "\n",
      "4. **Economy**: Bangladesh has made significant strides in economic growth, with the garment industry being a major contributor. It is one of the largest exporters of ready-made garments in the world. Agriculture, particularly rice and jute production, also forms the backbone of the economy.\n",
      "\n",
      "5. **Food**: Bangladeshi cuisine is diverse and flavorful, with rice and fish being staples. Spices play a central role in cooking, and popular dishes include biryani, hilsa fish curry, pithas (rice cakes), and various lentil dishes (dal).\n",
      "\n",
      "6. **Tourism**: The country offers a range of attractions for tourists, including historical sites, natural beauty, and wildlife. Key destinations include:\n",
      "   - The Sundarbans for wildlife enthusiasts.\n",
      "   - Cox's Bazar, famous for having one of the longest unbroken sandy beaches in the world.\n",
      "   - Srimangal, known for its tea gardens and serene landscapes.\n",
      "   - The ancient city of Paharpur, featuring the ruins of Somapura Mahavihara, a UNESCO World Heritage Site.\n",
      "\n",
      "7. **People and Festivals**: Bangladeshis are known for their hospitality and warmth. Major cultural and religious festivals include Pohela Boishakh (Bengali New Year), Durga Puja, Eid ul-Fitr, and Eid ul-Adha. These celebrations often involve colorful processions, feasting, music, and traditional dance.\n",
      "\n",
      "8. **Challenges**: Despite its progress, Bangladesh faces challenges such as political instability, poverty, and the effects of climate change. Flooding and cyclones pose significant risks, impacting livelihoods and infrastructure.\n",
      "\n",
      "Bangladesh is a country of resilience, rich in culture and natural beauty. It's an emerging destination for those looking for a unique travel experience, offering everything from vibrant city life to tranquil rural landscapes.'\n"
     ]
    }
   ],
   "source": [
    "async def main():\n",
    "    # Define the chat history\n",
    "    chat_history = ChatHistory()\n",
    "    chat_history.add_system_message(AGENT_INSTRUCTIONS)\n",
    "\n",
    "    user_inputs = [\n",
    "        \"Tell me about Bangladesh.\",\n",
    "    ]\n",
    "    for user_input in user_inputs:\n",
    "        # Add the user input to the chat history\n",
    "        chat_history.add_user_message(user_input)\n",
    "        print(f\"# User: '{user_input}'\")\n",
    "        # Invoke the agent to get a response\n",
    "        async for content in agent.invoke(chat_history):\n",
    "            # Add the response to the chat history\n",
    "            chat_history.add_message(content)\n",
    "            print(f\"# Agent - {content.name or '*'}: '{content.content}'\")\n",
    "\n",
    "# For Jupyter notebooks, use this instead of asyncio.run():\n",
    "await main()"
   ]
  }
 ],
 "metadata": {
  "kernelspec": {
   "display_name": "venv",
   "language": "python",
   "name": "python3"
  },
  "language_info": {
   "codemirror_mode": {
    "name": "ipython",
    "version": 3
   },
   "file_extension": ".py",
   "mimetype": "text/x-python",
   "name": "python",
   "nbconvert_exporter": "python",
   "pygments_lexer": "ipython3",
   "version": "3.12.5"
  }
 },
 "nbformat": 4,
 "nbformat_minor": 2
}
