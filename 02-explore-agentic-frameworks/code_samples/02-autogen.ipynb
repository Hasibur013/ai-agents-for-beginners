{
 "cells": [
  {
   "cell_type": "code",
   "execution_count": 2,
   "metadata": {},
   "outputs": [],
   "source": [
    "import os\n",
    "\n",
    "from autogen_agentchat.agents import AssistantAgent\n",
    "from autogen_core.models import UserMessage\n",
    "from autogen_ext.models.azure import AzureAIChatCompletionClient\n",
    "from azure.core.credentials import AzureKeyCredential\n",
    "from autogen_core import CancellationToken\n",
    "\n",
    "from autogen_agentchat.messages import TextMessage\n",
    "from autogen_agentchat.ui import Console\n"
   ]
  },
  {
   "cell_type": "code",
   "execution_count": 3,
   "metadata": {},
   "outputs": [
    {
     "name": "stdout",
     "output_type": "stream",
     "text": [
      "finish_reason='stop' content='The capital of France is Paris.' usage=RequestUsage(prompt_tokens=14, completion_tokens=7) cached=False logprobs=None thought=None\n"
     ]
    }
   ],
   "source": [
    "client = AzureAIChatCompletionClient(\n",
    "    model=\"gpt-4o-mini\",\n",
    "    endpoint=\"https://models.inference.ai.azure.com\",\n",
    "    # To authenticate with the model you will need to generate a personal access token (PAT) in your GitHub settings.\n",
    "    # Create your PAT token by following instructions here: https://docs.github.com/en/authentication/keeping-your-account-and-data-secure/managing-your-personal-access-tokens\n",
    "    credential=AzureKeyCredential(os.environ[\"GITHUB_TOKEN\"]),\n",
    "    model_info={\n",
    "        \"json_output\": True,\n",
    "        \"function_calling\": True,\n",
    "        \"vision\": True,\n",
    "        \"family\": \"unknown\",\n",
    "    },\n",
    ")\n",
    "\n",
    "result = await client.create([UserMessage(content=\"What is the capital of France?\", source=\"user\")])\n",
    "print(result)"
   ]
  },
  {
   "cell_type": "code",
   "execution_count": 4,
   "metadata": {},
   "outputs": [],
   "source": [
    "agent = AssistantAgent(\n",
    "    name=\"assistant\",\n",
    "    model_client=client,\n",
    "    tools=[],\n",
    "    system_message=\"You are a travel agent that plans great vacations\",\n",
    ")"
   ]
  },
  {
   "cell_type": "code",
   "execution_count": 6,
   "metadata": {},
   "outputs": [
    {
     "name": "stdout",
     "output_type": "stream",
     "text": [
      "[]\n",
      "source='assistant' models_usage=RequestUsage(prompt_tokens=766, completion_tokens=836) content=\"Bangladesh is a country located in South Asia, bordered by India to the west, north, and east, Myanmar (Burma) to the southeast, and the Bay of Bengal to the south. It is known for its rich cultural heritage, stunning natural landscapes, and a vibrant tapestry of traditions. Here’s an overview of the country:\\n\\n### Geography\\n- **Capital:** Dhaka, which is also the largest city.\\n- **Area:** Approximately 147,570 square kilometers (56,980 square miles), making it one of the most densely populated countries in the world.\\n- **Landscape:** Bangladesh features a predominantly low-lying deltaic topography, created by the confluence of major rivers such as the Ganges (Padma), Brahmaputra (Jamuna), and Meghna. It is characterized by lush greenery, rivers, and fertile plains.\\n\\n### Culture\\n- **Language:** Bengali (Bangla) is the official language, and it is spoken by the vast majority of the population.\\n- **Religion:** Islam is the predominant religion, with a significant Hindu minority and smaller communities of Buddhism and Christianity.\\n- **Traditional Arts:** Bangladesh has a rich tradition of performing arts, including music, dance, theater, and crafts. Notable art forms include Nakshi Kantha (embroidered quilts) and pottery.\\n\\n### History\\n- **Colonial Past:** Bangladesh was part of British India until the subcontinent’s partition in 1947, after which it became East Pakistan. Living under political tensions and cultural differences, it eventually achieved independence from Pakistan in 1971 after a bloody liberation war.\\n- **Heritage:** The country has a rich historical legacy with archaeological sites, ancient mosques, and palaces, reflecting a mix of indigenous and foreign influences.\\n\\n### Economy\\n- **Economics:** Bangladesh has seen steady economic growth over the last few decades, largely driven by the textile and garment industry, agriculture, remittances from Bangladeshis working abroad, and a growing service sector.\\n- **Agriculture:** The majority of the population is engaged in agriculture, with rice being the staple crop, along with jute, tea, and various fruits and vegetables.\\n\\n### Tourist Attractions\\n- **Sundarbans Mangrove Forest:** A UNESCO World Heritage site and home to the Bengal tiger, the Sundarbans is one of the largest mangrove forests in the world.\\n- **Cox's Bazar:** Known for having the longest unbroken sandy beach in the world, Cox's Bazar is a popular tourist destination.\\n- **Dhaka:** The bustling capital is famous for its vibrant street life, historical sites like Lalbagh Fort, Ahsan Manzil, and the Liberation War Museum.\\n- **Srimangal:** Known as the tea capital of Bangladesh, it offers rolling tea gardens and scenic landscapes.\\n- **Paharpur:** Home to the ruins of an ancient Buddhist monastery, Somapura Mahavihara, also a UNESCO World Heritage site.\\n\\n### Cuisine\\n- **Food:** The cuisine of Bangladesh is characterized by rice and fish, and the use of spices, lentils, and vegetables. Signature dishes include Hilsa fish curry, biryani, pitha (rice cakes), and a variety of sweets such as roshogolla and sandesh.\\n\\n### Climate\\n- **Weather:** Bangladesh has a tropical monsoon climate with three distinct seasons: a warm, humid summer (March to June), a rainy monsoon (June to October), and a cool, dry winter (November to February).\\n\\n### Travel Tips\\n- **Visa:** Most travelers need a visa to enter Bangladesh. It is advised to check the latest requirements before travel.\\n- **Currency:** The currency is the Bangladeshi Taka (BDT).\\n- **Transportation:** The country has domestic flights, buses, and trains for intercity travel. Rickshaws and motorcycles are common for local travel.\\n\\nOverall, Bangladesh is a land of natural beauty and deep cultural heritage, making it a fascinating destination for those looking to explore a country that is often less traveled. If you have any specific interests or questions about Bangladesh, feel free to ask!\" type='TextMessage'\n"
     ]
    }
   ],
   "source": [
    "async def assistant_run() -> None:\n",
    "    response = await agent.on_messages(\n",
    "        [TextMessage(content=\"Tell me about Bangladesh.\", source=\"user\")],\n",
    "        cancellation_token=CancellationToken(),\n",
    "    )\n",
    "    print(response.inner_messages)\n",
    "    print(response.chat_message)\n",
    "\n",
    "\n",
    "# Use asyncio.run(assistant_run()) when running in a script.\n",
    "await assistant_run()"
   ]
  }
 ],
 "metadata": {
  "kernelspec": {
   "display_name": "venv",
   "language": "python",
   "name": "python3"
  },
  "language_info": {
   "codemirror_mode": {
    "name": "ipython",
    "version": 3
   },
   "file_extension": ".py",
   "mimetype": "text/x-python",
   "name": "python",
   "nbconvert_exporter": "python",
   "pygments_lexer": "ipython3",
   "version": "3.12.5"
  }
 },
 "nbformat": 4,
 "nbformat_minor": 2
}
